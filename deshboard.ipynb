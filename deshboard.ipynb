{
 "cells": [
  {
   "cell_type": "code",
   "execution_count": 55,
   "id": "98a4d22f-88a3-41ec-a3e3-6fc57ca32e64",
   "metadata": {},
   "outputs": [],
   "source": [
    "import numpy as np\n",
    "import pandas as pd\n",
    "import streamlit as st\n",
    "import matplotlib.pyplot as plt\n",
    "import seaborn as sns"
   ]
  },
  {
   "cell_type": "code",
   "execution_count": 57,
   "id": "761c148b-b969-48eb-8480-6f4497bcc885",
   "metadata": {},
   "outputs": [],
   "source": [
    "data=pd.read_csv(\"data.csv\")"
   ]
  },
  {
   "cell_type": "code",
   "execution_count": 59,
   "id": "5e13d9a2-b6b0-4122-aafd-3185d307b411",
   "metadata": {},
   "outputs": [
    {
     "data": {
      "text/html": [
       "<div>\n",
       "<style scoped>\n",
       "    .dataframe tbody tr th:only-of-type {\n",
       "        vertical-align: middle;\n",
       "    }\n",
       "\n",
       "    .dataframe tbody tr th {\n",
       "        vertical-align: top;\n",
       "    }\n",
       "\n",
       "    .dataframe thead th {\n",
       "        text-align: right;\n",
       "    }\n",
       "</style>\n",
       "<table border=\"1\" class=\"dataframe\">\n",
       "  <thead>\n",
       "    <tr style=\"text-align: right;\">\n",
       "      <th></th>\n",
       "      <th>Country</th>\n",
       "      <th>GDP (nominal, 2023)</th>\n",
       "      <th>GDP Growth</th>\n",
       "      <th>cluster</th>\n",
       "    </tr>\n",
       "  </thead>\n",
       "  <tbody>\n",
       "    <tr>\n",
       "      <th>0</th>\n",
       "      <td>United States</td>\n",
       "      <td>2.772070e+13</td>\n",
       "      <td>2.89</td>\n",
       "      <td>2</td>\n",
       "    </tr>\n",
       "    <tr>\n",
       "      <th>1</th>\n",
       "      <td>China</td>\n",
       "      <td>1.779480e+13</td>\n",
       "      <td>5.25</td>\n",
       "      <td>2</td>\n",
       "    </tr>\n",
       "    <tr>\n",
       "      <th>2</th>\n",
       "      <td>Germany</td>\n",
       "      <td>4.525700e+12</td>\n",
       "      <td>-0.27</td>\n",
       "      <td>0</td>\n",
       "    </tr>\n",
       "    <tr>\n",
       "      <th>3</th>\n",
       "      <td>Japan</td>\n",
       "      <td>4.204490e+12</td>\n",
       "      <td>1.68</td>\n",
       "      <td>0</td>\n",
       "    </tr>\n",
       "    <tr>\n",
       "      <th>4</th>\n",
       "      <td>India</td>\n",
       "      <td>3.567550e+12</td>\n",
       "      <td>8.15</td>\n",
       "      <td>1</td>\n",
       "    </tr>\n",
       "    <tr>\n",
       "      <th>...</th>\n",
       "      <td>...</td>\n",
       "      <td>...</td>\n",
       "      <td>...</td>\n",
       "      <td>...</td>\n",
       "    </tr>\n",
       "    <tr>\n",
       "      <th>176</th>\n",
       "      <td>Micronesia</td>\n",
       "      <td>4.600000e+08</td>\n",
       "      <td>0.78</td>\n",
       "      <td>0</td>\n",
       "    </tr>\n",
       "    <tr>\n",
       "      <th>177</th>\n",
       "      <td>Palau</td>\n",
       "      <td>2.818491e+08</td>\n",
       "      <td>1.88</td>\n",
       "      <td>1</td>\n",
       "    </tr>\n",
       "    <tr>\n",
       "      <th>178</th>\n",
       "      <td>Kiribati</td>\n",
       "      <td>2.792089e+08</td>\n",
       "      <td>4.12</td>\n",
       "      <td>1</td>\n",
       "    </tr>\n",
       "    <tr>\n",
       "      <th>179</th>\n",
       "      <td>Marshall Islands</td>\n",
       "      <td>2.593000e+08</td>\n",
       "      <td>-3.93</td>\n",
       "      <td>0</td>\n",
       "    </tr>\n",
       "    <tr>\n",
       "      <th>180</th>\n",
       "      <td>Tuvalu</td>\n",
       "      <td>6.228031e+07</td>\n",
       "      <td>3.85</td>\n",
       "      <td>1</td>\n",
       "    </tr>\n",
       "  </tbody>\n",
       "</table>\n",
       "<p>181 rows × 4 columns</p>\n",
       "</div>"
      ],
      "text/plain": [
       "              Country  GDP (nominal, 2023)  GDP Growth  cluster\n",
       "0       United States         2.772070e+13        2.89        2\n",
       "1               China         1.779480e+13        5.25        2\n",
       "2             Germany         4.525700e+12       -0.27        0\n",
       "3               Japan         4.204490e+12        1.68        0\n",
       "4               India         3.567550e+12        8.15        1\n",
       "..                ...                  ...         ...      ...\n",
       "176        Micronesia         4.600000e+08        0.78        0\n",
       "177             Palau         2.818491e+08        1.88        1\n",
       "178          Kiribati         2.792089e+08        4.12        1\n",
       "179  Marshall Islands         2.593000e+08       -3.93        0\n",
       "180            Tuvalu         6.228031e+07        3.85        1\n",
       "\n",
       "[181 rows x 4 columns]"
      ]
     },
     "execution_count": 59,
     "metadata": {},
     "output_type": "execute_result"
    }
   ],
   "source": [
    "data"
   ]
  },
  {
   "cell_type": "code",
   "execution_count": 61,
   "id": "773918ca-76ae-464f-88bd-4d76ae498483",
   "metadata": {},
   "outputs": [],
   "source": [
    "df=pd.read_csv(\"Big_data.csv\")"
   ]
  },
  {
   "cell_type": "code",
   "execution_count": 63,
   "id": "19c89c8b-0797-4ed1-85b9-3ee93cc6b8ce",
   "metadata": {},
   "outputs": [
    {
     "data": {
      "text/html": [
       "<div>\n",
       "<style scoped>\n",
       "    .dataframe tbody tr th:only-of-type {\n",
       "        vertical-align: middle;\n",
       "    }\n",
       "\n",
       "    .dataframe tbody tr th {\n",
       "        vertical-align: top;\n",
       "    }\n",
       "\n",
       "    .dataframe thead th {\n",
       "        text-align: right;\n",
       "    }\n",
       "</style>\n",
       "<table border=\"1\" class=\"dataframe\">\n",
       "  <thead>\n",
       "    <tr style=\"text-align: right;\">\n",
       "      <th></th>\n",
       "      <th>Country</th>\n",
       "      <th>GDP (nominal, 2023)</th>\n",
       "      <th>GDP (abbrev.)</th>\n",
       "      <th>GDP Growth</th>\n",
       "      <th>Population (2023)</th>\n",
       "      <th>GDP per capita</th>\n",
       "      <th>Share of World GDP per</th>\n",
       "    </tr>\n",
       "  </thead>\n",
       "  <tbody>\n",
       "    <tr>\n",
       "      <th>0</th>\n",
       "      <td>United States</td>\n",
       "      <td>2.772070e+13</td>\n",
       "      <td>2.772100e+12</td>\n",
       "      <td>2.89</td>\n",
       "      <td>343477335</td>\n",
       "      <td>80706.0</td>\n",
       "      <td>26.110000</td>\n",
       "    </tr>\n",
       "    <tr>\n",
       "      <th>1</th>\n",
       "      <td>China</td>\n",
       "      <td>1.779480e+13</td>\n",
       "      <td>1.779500e+12</td>\n",
       "      <td>5.25</td>\n",
       "      <td>1422584933</td>\n",
       "      <td>12509.0</td>\n",
       "      <td>16.760000</td>\n",
       "    </tr>\n",
       "    <tr>\n",
       "      <th>2</th>\n",
       "      <td>Germany</td>\n",
       "      <td>4.525700e+12</td>\n",
       "      <td>4.526000e+11</td>\n",
       "      <td>-0.27</td>\n",
       "      <td>84548231</td>\n",
       "      <td>53528.0</td>\n",
       "      <td>4.260000</td>\n",
       "    </tr>\n",
       "    <tr>\n",
       "      <th>3</th>\n",
       "      <td>Japan</td>\n",
       "      <td>4.204490e+12</td>\n",
       "      <td>4.204000e+11</td>\n",
       "      <td>1.68</td>\n",
       "      <td>124370947</td>\n",
       "      <td>33806.0</td>\n",
       "      <td>3.960000</td>\n",
       "    </tr>\n",
       "    <tr>\n",
       "      <th>4</th>\n",
       "      <td>India</td>\n",
       "      <td>3.567550e+12</td>\n",
       "      <td>3.568000e+11</td>\n",
       "      <td>8.15</td>\n",
       "      <td>1438069596</td>\n",
       "      <td>2481.0</td>\n",
       "      <td>3.360000</td>\n",
       "    </tr>\n",
       "    <tr>\n",
       "      <th>...</th>\n",
       "      <td>...</td>\n",
       "      <td>...</td>\n",
       "      <td>...</td>\n",
       "      <td>...</td>\n",
       "      <td>...</td>\n",
       "      <td>...</td>\n",
       "      <td>...</td>\n",
       "    </tr>\n",
       "    <tr>\n",
       "      <th>176</th>\n",
       "      <td>Micronesia</td>\n",
       "      <td>4.600000e+08</td>\n",
       "      <td>4.600000e+08</td>\n",
       "      <td>0.78</td>\n",
       "      <td>112630</td>\n",
       "      <td>4084.0</td>\n",
       "      <td>0.000430</td>\n",
       "    </tr>\n",
       "    <tr>\n",
       "      <th>177</th>\n",
       "      <td>Palau</td>\n",
       "      <td>2.818491e+08</td>\n",
       "      <td>2.818490e+08</td>\n",
       "      <td>1.88</td>\n",
       "      <td>17727</td>\n",
       "      <td>15899.0</td>\n",
       "      <td>0.000270</td>\n",
       "    </tr>\n",
       "    <tr>\n",
       "      <th>178</th>\n",
       "      <td>Kiribati</td>\n",
       "      <td>2.792089e+08</td>\n",
       "      <td>2.792090e+08</td>\n",
       "      <td>4.12</td>\n",
       "      <td>132530</td>\n",
       "      <td>2107.0</td>\n",
       "      <td>0.000260</td>\n",
       "    </tr>\n",
       "    <tr>\n",
       "      <th>179</th>\n",
       "      <td>Marshall Islands</td>\n",
       "      <td>2.593000e+08</td>\n",
       "      <td>2.593000e+08</td>\n",
       "      <td>-3.93</td>\n",
       "      <td>38827</td>\n",
       "      <td>6678.0</td>\n",
       "      <td>0.000240</td>\n",
       "    </tr>\n",
       "    <tr>\n",
       "      <th>180</th>\n",
       "      <td>Tuvalu</td>\n",
       "      <td>6.228031e+07</td>\n",
       "      <td>6.228000e+07</td>\n",
       "      <td>3.85</td>\n",
       "      <td>9816</td>\n",
       "      <td>6345.0</td>\n",
       "      <td>0.000059</td>\n",
       "    </tr>\n",
       "  </tbody>\n",
       "</table>\n",
       "<p>181 rows × 7 columns</p>\n",
       "</div>"
      ],
      "text/plain": [
       "              Country  GDP (nominal, 2023)  GDP (abbrev.)  GDP Growth  \\\n",
       "0       United States         2.772070e+13   2.772100e+12        2.89   \n",
       "1               China         1.779480e+13   1.779500e+12        5.25   \n",
       "2             Germany         4.525700e+12   4.526000e+11       -0.27   \n",
       "3               Japan         4.204490e+12   4.204000e+11        1.68   \n",
       "4               India         3.567550e+12   3.568000e+11        8.15   \n",
       "..                ...                  ...            ...         ...   \n",
       "176        Micronesia         4.600000e+08   4.600000e+08        0.78   \n",
       "177             Palau         2.818491e+08   2.818490e+08        1.88   \n",
       "178          Kiribati         2.792089e+08   2.792090e+08        4.12   \n",
       "179  Marshall Islands         2.593000e+08   2.593000e+08       -3.93   \n",
       "180            Tuvalu         6.228031e+07   6.228000e+07        3.85   \n",
       "\n",
       "     Population (2023)  GDP per capita  Share of World GDP per  \n",
       "0            343477335         80706.0               26.110000  \n",
       "1           1422584933         12509.0               16.760000  \n",
       "2             84548231         53528.0                4.260000  \n",
       "3            124370947         33806.0                3.960000  \n",
       "4           1438069596          2481.0                3.360000  \n",
       "..                 ...             ...                     ...  \n",
       "176             112630          4084.0                0.000430  \n",
       "177              17727         15899.0                0.000270  \n",
       "178             132530          2107.0                0.000260  \n",
       "179              38827          6678.0                0.000240  \n",
       "180               9816          6345.0                0.000059  \n",
       "\n",
       "[181 rows x 7 columns]"
      ]
     },
     "execution_count": 63,
     "metadata": {},
     "output_type": "execute_result"
    }
   ],
   "source": [
    "df"
   ]
  },
  {
   "cell_type": "code",
   "execution_count": null,
   "id": "4950d8ea-b205-4b54-9e5d-465d0f770b0d",
   "metadata": {},
   "outputs": [],
   "source": []
  },
  {
   "cell_type": "code",
   "execution_count": 66,
   "id": "8e4e41dc-977f-41c8-ba20-9fd46f93d147",
   "metadata": {},
   "outputs": [
    {
     "data": {
      "text/plain": [
       "DeltaGenerator()"
      ]
     },
     "execution_count": 66,
     "metadata": {},
     "output_type": "execute_result"
    }
   ],
   "source": [
    "st.title(\"Dashboard......\")"
   ]
  },
  {
   "cell_type": "code",
   "execution_count": 68,
   "id": "f17c81ba-73c6-4046-832a-95632906ffaa",
   "metadata": {},
   "outputs": [],
   "source": [
    "cluster=data[\"cluster\"].unique()"
   ]
  },
  {
   "cell_type": "code",
   "execution_count": 70,
   "id": "bed53f24-ecdc-4728-ba93-3d95638bdea6",
   "metadata": {},
   "outputs": [],
   "source": [
    "select_cluster=st.selectbox(\"Select a cluster\",cluster)"
   ]
  },
  {
   "cell_type": "code",
   "execution_count": 72,
   "id": "307be485-810b-4ddd-a795-3a552da67723",
   "metadata": {},
   "outputs": [],
   "source": [
    "filter_data=data[data[\"cluster\"]==select_cluster]"
   ]
  },
  {
   "cell_type": "code",
   "execution_count": null,
   "id": "38f46a46-ead1-4f37-8a1b-c239317068e9",
   "metadata": {},
   "outputs": [],
   "source": []
  },
  {
   "cell_type": "code",
   "execution_count": 75,
   "id": "12a1ae1d-0bdb-4b03-a4d4-4d207c042a23",
   "metadata": {},
   "outputs": [],
   "source": [
    "st.write(f\"no of records in cluster{select_cluster}: {len(filter_data)}\")"
   ]
  },
  {
   "cell_type": "code",
   "execution_count": 83,
   "id": "6c4ac6ab-9b0e-4ab8-9d64-f2098ce03f34",
   "metadata": {},
   "outputs": [
    {
     "data": {
      "text/plain": [
       "DeltaGenerator()"
      ]
     },
     "execution_count": 83,
     "metadata": {},
     "output_type": "execute_result"
    },
    {
     "data": {
      "image/png": "[encoded data removed]",
      "text/plain": [
       "<Figure size 640x480 with 1 Axes>"
      ]
     },
     "metadata": {},
     "output_type": "display_data"
    }
   ],
   "source": [
    "st.subheader(\"Cluster Visualization\")\n",
    "fig, ax = plt.subplots()\n",
    "sns.scatterplot(data=filter_data, x=\"GDP (nominal, 2023)\", y=\"GDP Growth\", hue=\"cluster\", palette=\"tab10\", ax=ax)\n",
    "st.pyplot(fig)"
   ]
  },
  {
   "cell_type": "code",
   "execution_count": null,
   "id": "a877fa55-1c8c-447f-9bb3-8bdb956b61d5",
   "metadata": {},
   "outputs": [],
   "source": []
  }
 ],
 "metadata": {
  "kernelspec": {
   "display_name": "Python 3 (ipykernel)",
   "language": "python",
   "name": "python3"
  },
  "language_info": {
   "codemirror_mode": {
    "name": "ipython",
    "version": 3
   },
   "file_extension": ".py",
   "mimetype": "text/x-python",
   "name": "python",
   "nbconvert_exporter": "python",
   "pygments_lexer": "ipython3",
   "version": "3.12.4"
  }
 },
 "nbformat": 4,
 "nbformat_minor": 5
}
